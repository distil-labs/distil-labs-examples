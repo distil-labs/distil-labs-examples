{
 "cells": [
  {
   "attachments": {
    "5ac9b1b6-3067-4031-980e-aec493981b7f.jpeg": {
     "image/jpeg": "[encoded data removed]"
    }
   },
   "cell_type": "markdown",
   "id": "ce420c73",
   "metadata": {},
   "source": [
    "# Introduction\n",
    "\n",
    "Welcome to the **distil Labs** hands‑on tutorial for fine-tuning and deploying your own domain-specialized model. In this tutorial, you’ll learn how to **Fine-tune a small language model (SLM)** for a custom open-book question answering task using the Distil Labs platform.\n",
    "\n",
    "![download.jpeg](attachment:5ac9b1b6-3067-4031-980e-aec493981b7f.jpeg)\n",
    "\n",
    "Despite its compact size, the fine-tuned SLM will deliver performance close to much larger models—demonstrating how domain specialization and efficient distillation can unlock powerful capabilities on resource-constrained hardware. By the end, you’ll have a functional, local QA assistant—built with minimal data, no ML expertise, and zero dependency on cloud-based LLMs."
   ]
  },
  {
   "cell_type": "markdown",
   "id": "93a975db-af05-4b9f-bfa5-64b4f36f954e",
   "metadata": {},
   "source": [
    "### Registration\n",
    "\n",
    "The first step towards model distillation is creating an account at [app.distillabs.ai](https://app.distillabs.ai/). Once you sign up, you can use your email/password combination in the authentification section below."
   ]
  },
  {
   "cell_type": "markdown",
   "id": "16c79f7c-d3b3-45c9-ba2c-96c91189b978",
   "metadata": {},
   "source": [
    "# Notebook Setup"
   ]
  },
  {
   "cell_type": "markdown",
   "id": "d5880599-0b59-484a-89c8-b9e36f2ceba8",
   "metadata": {},
   "source": [
    "##### Copy over necessary data"
   ]
  },
  {
   "cell_type": "code",
   "execution_count": null,
   "id": "8d980d2d-3cc3-442e-aaea-9be0838e3db0",
   "metadata": {},
   "outputs": [],
   "source": [
    "%%bash\n",
    "# Check if the directory exists\n",
    "if [ -d \"data\" ]; then\n",
    "  echo \"Data directory does exist, nothing to do\"\n",
    "else\n",
    "  echo \"Data directory does not exist, cloning from a repository\"\n",
    "\n",
    "  # Clone the repo to a temp location\n",
    "  git clone https://github.com/distil-labs/distil-labs-examples.git distil-labs-examples\n",
    "\n",
    "  # Copy the specific subdirectory to the data directory\n",
    "  cp -r distil-labs-examples/rag-tutorial/data data\n",
    "\n",
    "  # Delete the cloned repo\n",
    "  rm -rf distil-labs-examples\n",
    "\n",
    "  echo \"Subdirectory copied and repo removed.\"\n",
    "\n",
    "fi"
   ]
  },
  {
   "cell_type": "markdown",
   "id": "8c3d92f5-d762-4357-bc45-f5ea0f75c8f8",
   "metadata": {},
   "source": [
    "##### Install python libraries"
   ]
  },
  {
   "cell_type": "code",
   "execution_count": null,
   "id": "b2ae4070-9e0a-49f5-818a-8a520b5b933d",
   "metadata": {
    "scrolled": true
   },
   "outputs": [],
   "source": [
    "! pip install langchain-core langchain_community langchain-openai langchain-huggingface langchain-ollama\n",
    "! pip install wikipedia pandas numpy requests rich pyyaml rouge_score ollama"
   ]
  },
  {
   "cell_type": "code",
   "execution_count": null,
   "id": "c7d7dac9-f8ee-4a07-a545-4bf698315c9d",
   "metadata": {},
   "outputs": [],
   "source": [
    "%env TOKENIZERS_PARALLELISM=false"
   ]
  },
  {
   "cell_type": "markdown",
   "id": "96dd8fce-8037-49cc-9b56-624080c74763",
   "metadata": {},
   "source": [
    "Specialize a Question-Answering Model with distil labs\n",
    "\n",
    "In this chapter you will transform a compact **1B-parameter** “student” model\n",
    "into a domain expert—without writing a single training loop yourself.\n",
    "Distil Labs takes care of every heavy-lifting step:\n",
    "\n",
    "| Stage | What happens under the hood | Why it matters |\n",
    "| ----- | --------------------------- | -------------- |\n",
    "| **Data upload & validation** | You submit a *job description*, tiny train / test CSVs, and (optionally) an **unstructured corpus**. The platform checks schema, finds label mistakes, and estimates achievable accuracy. | Catches data bugs before you waste compute. |\n",
    "| **Teacher evaluation** | A large foundation model (“teacher”) answers your test questions. Distil Labs measures accuracy and shows a pass/fail report. | If the teacher can’t solve the task, small models won’t either—stop here instead of two hours later. |\n",
    "| **SLM training (synthetic generation + distillation)** | *Automatically* generates additional Q&A pairs from your corpus to fill knowledge gaps, then fine-tunes the 135 M student with LoRA/QLoRA adapters while distilling the teacher’s reasoning. Lightweight hyper-parameter search runs in the background. | Produces a model up to **70 × smaller** than the teacher yet usually within a few percentage points of its accuracy—ready for CPU-only devices. |\n",
    "| **Benchmarking & packaging** | Once training finishes, Distil Labs re-evaluates both teacher and student on your held-out test set, generates a side-by-side metrics report, and bundles the weights in an Ollama-ready tarball. | You get hard numbers *and* a model you can run locally in one command. |\n",
    "\n",
    "\n",
    "**What you need to supply**\n",
    "\n",
    "* A concise *job description* that tells the platform what “good” looks like  \n",
    "* Roughly **20–100** labeled (question, answer) pairs for train / test  \n",
    "* Any domain documents you want the teacher to read while inventing synthetic Q&A pairs\n",
    "\n",
    "Everything else (synthetic generation, distillation, evaluation, and packaging) is automated.  \n",
    "Let’s dive in and see how that looks in practice.\n"
   ]
  },
  {
   "cell_type": "markdown",
   "id": "4b038301-a4f9-451f-98e0-cd4ff7b54b00",
   "metadata": {},
   "source": [
    "### Authentication\n",
    "\n",
    "The first step towards model distillation is logging into your distil labs account you created at the begginning of the notebook. If you registered already, you can use your email/password combination in the authentication section below."
   ]
  },
  {
   "cell_type": "code",
   "execution_count": null,
   "id": "de7c83a4-763e-4b8a-8bae-274b19de5a9c",
   "metadata": {},
   "outputs": [],
   "source": [
    "import getpass\n",
    "import json\n",
    "import requests\n",
    "\n",
    "\n",
    "def distil_bearer_token(DL_USERNAME: str, DL_PASSWORD: str) -> str:\n",
    "    response = requests.post(\n",
    "        \"https://cognito-idp.eu-central-1.amazonaws.com\",\n",
    "        headers={\n",
    "            \"X-Amz-Target\": \"AWSCognitoIdentityProviderService.InitiateAuth\",\n",
    "            \"Content-Type\": \"application/x-amz-json-1.1\",\n",
    "        },\n",
    "        data=json.dumps({\n",
    "            \"AuthParameters\": {\n",
    "                \"USERNAME\": DL_USERNAME,\n",
    "                \"PASSWORD\": DL_PASSWORD,\n",
    "            },\n",
    "            \"AuthFlow\": \"USER_PASSWORD_AUTH\",\n",
    "            \"ClientId\" : \"4569nvlkn8dm0iedo54nbta6fd\",\n",
    "        })\n",
    "    )\n",
    "    response.raise_for_status()\n",
    "    return response.json()[\"AuthenticationResult\"][\"AccessToken\"]\n",
    "\n",
    "\n",
    "DL_USERNAME = \"YOUR_EMAIL\"\n",
    "DL_PASSWORD = getpass.getpass()\n",
    "\n",
    "AUTH_HEADER = {\"Authorization\": distil_bearer_token(DL_USERNAME, DL_PASSWORD)}\n",
    "print(\"Success\")"
   ]
  },
  {
   "cell_type": "markdown",
   "id": "d51f5bc3-4b93-4b29-8dd0-c0263cb5a0af",
   "metadata": {},
   "source": [
    "### Register a new model\n",
    "\n",
    "The first component of the workflow is registring a new model - this helps us keep track of all our experiments down the line"
   ]
  },
  {
   "cell_type": "code",
   "execution_count": null,
   "id": "5191534d-cae2-47f7-b1a2-16f8a9ce0c47",
   "metadata": {},
   "outputs": [],
   "source": [
    "## Register a model\n",
    "from pprint import pprint\n",
    "\n",
    "# Register a model\n",
    "data = {\"name\": \"testmodel-123\"}\n",
    "response = requests.post(\n",
    "    \"https://api.distillabs.ai/models\",\n",
    "    data=json.dumps(data),\n",
    "    headers={\"content-type\": \"application/json\", **AUTH_HEADER},\n",
    ")\n",
    "pprint(response.json())\n",
    "model_id = response.json()[\"id\"]\n",
    "print(f\"Registered a model with ID={model_id}\")"
   ]
  },
  {
   "cell_type": "markdown",
   "id": "186a5b73-4d36-45d3-88ad-d1a146bf0a39",
   "metadata": {},
   "source": [
    "#### Inspect our models\n",
    "Now that the model is registerd, we can take a look at all the models in our repository"
   ]
  },
  {
   "cell_type": "code",
   "execution_count": null,
   "id": "effaf4cd-672a-48f6-94de-f7a4b053d007",
   "metadata": {},
   "outputs": [],
   "source": [
    "from pprint import pprint\n",
    "\n",
    "# Retrieve all models\n",
    "response = requests.get(\n",
    "    \"https://api.distillabs.ai/models\",\n",
    "    headers=AUTH_HEADER\n",
    ")\n",
    "pprint(response.json())"
   ]
  },
  {
   "cell_type": "markdown",
   "id": "fac10fcc-981e-42b6-bb7e-dee5312d6197",
   "metadata": {},
   "source": [
    "### Data Upload\n",
    "\n",
    "The data for this example should be stored in the data_location directory. Lets first take a look at the current directory to make sure all files are available. Your current directory should look like:\n",
    "```\n",
    "├── README.md\n",
    "├── rag-tutorial.ipynb\n",
    "└── data\n",
    "    ├── job_description.json\n",
    "    ├── test.csv\n",
    "    ├── train.csv\n",
    "    └── unstructured.csv\n",
    "```"
   ]
  },
  {
   "cell_type": "code",
   "execution_count": null,
   "id": "f19ac7ea-74a9-4006-9d2c-d46472afd919",
   "metadata": {},
   "outputs": [],
   "source": [
    "import json\n",
    "from pathlib import Path\n",
    "import rich.json\n",
    "\n",
    "with open(Path(\"data\").joinpath(\"job_description.json\")) as fin:\n",
    "    rich.print(rich.json.JSON(fin.read()))"
   ]
  },
  {
   "cell_type": "markdown",
   "id": "b0a65edf-29b5-4d0c-97b0-cc5776af0967",
   "metadata": {},
   "source": [
    "#### Train/test set\n",
    "\n",
    "We need a small train dataset to begin distil labs training and a testing dataset that we can use to evaluate the performance of the fine-tuned model. Here, we use the train and test datasets from the data_location directory where each is a CSV file with below 100 (question, answer) pairs."
   ]
  },
  {
   "cell_type": "code",
   "execution_count": null,
   "id": "b11eb6be-08ba-4d8f-858d-5d05d2ba2f59",
   "metadata": {
    "scrolled": true
   },
   "outputs": [],
   "source": [
    "from pathlib import Path\n",
    "from IPython.display import display\n",
    "\n",
    "import pandas as pd\n",
    "\n",
    "print(\"# --- Train set\")\n",
    "train = pd.read_csv(Path(\"data\").joinpath(\"train.csv\"))\n",
    "display(train)\n",
    "\n",
    "print(\"# --- Test set\")\n",
    "test = pd.read_csv(Path(\"data\").joinpath(\"test.csv\"))\n",
    "display(test)"
   ]
  },
  {
   "cell_type": "markdown",
   "id": "46f672f7-fead-4616-8c38-a6bf45efdc1f",
   "metadata": {},
   "source": [
    "#### Unstructured dataset\n",
    "The unstructured dataset is used to guide the teacher model in generating diverse, domain-specific data. In the case of this open-book example, we need to provide a realistic document that would be used as context for question-answering. Here, we use the unstructured datasets from the `data_location/` directory where each is a **JSON**-lines with a single column (`context`).\n",
    "\n",
    "Let's inspect the available datasets to see the format and a few examples."
   ]
  },
  {
   "cell_type": "code",
   "execution_count": null,
   "id": "d6a33ecd-ddfc-4284-a34e-60dbe3d85e9f",
   "metadata": {},
   "outputs": [],
   "source": [
    "import pandas as pd\n",
    "\n",
    "unstructured = pd.read_csv(Path(\"data\").joinpath(\"unstructured.csv\"))\n",
    "display(unstructured)"
   ]
  },
  {
   "cell_type": "markdown",
   "id": "a6c4d1ad-2c87-4914-a3e0-28947a0209e6",
   "metadata": {},
   "source": [
    "#### Data upload\n",
    "We upload our dataset by attaching it to the model we created, this lets us keep all the artifacts in one place"
   ]
  },
  {
   "cell_type": "code",
   "execution_count": null,
   "id": "6b5a8242-3506-40b1-8aa3-098b4b0f4b25",
   "metadata": {},
   "outputs": [],
   "source": [
    "import json\n",
    "\n",
    "import requests\n",
    "import yaml\n",
    "from pathlib import Path\n",
    "import pandas\n",
    "\n",
    "# Specify the config\n",
    "config = {\n",
    "    \"base\": {\n",
    "        \"task\": \"question-answering-open-book\",\n",
    "    },\n",
    "    \"tuning\": {\n",
    "        \"num_train_epochs\": 4,\n",
    "    },\n",
    "}\n",
    "\n",
    "# Package your data\n",
    "data_dir = Path(\"data\")\n",
    "data = {\n",
    "    \"job_description\": {\n",
    "        \"type\": \"json\",\n",
    "        \"content\": open(data_dir / \"job_description.json\", encoding=\"utf-8\").read()\n",
    "    },\n",
    "    \"train_data\": {\n",
    "        \"type\": \"csv\",\n",
    "        \"content\": open(data_dir / \"train.csv\", encoding=\"utf-8\").read()\n",
    "    },\n",
    "    \"test_data\": {\n",
    "        \"type\": \"csv\",\n",
    "        \"content\": open(data_dir / \"test.csv\", encoding=\"utf-8\").read()\n",
    "    },\n",
    "    \"unstructured_data\": {\n",
    "        \"type\": \"csv\",\n",
    "        \"content\": open(data_dir / \"unstructured.csv\", encoding=\"utf-8\").read()\n",
    "    },\n",
    "    \"config\": {\n",
    "        \"type\": \"yaml\",\n",
    "        \"content\": yaml.dump(config)\n",
    "    },\n",
    "}\n",
    "\n",
    "# Upload data\n",
    "response = requests.post(\n",
    "    f\"https://api.distillabs.ai/models/{model_id}/uploads\",\n",
    "    data=json.dumps(data),\n",
    "    headers={\"content-type\": \"application/json\", **AUTH_HEADER},\n",
    ")\n",
    "print(response.json())\n",
    "upload_id = response.json()[\"id\"]"
   ]
  },
  {
   "cell_type": "markdown",
   "id": "1c8cf6b2-b402-4ea3-8bce-f88e0378f1c5",
   "metadata": {},
   "source": [
    "### Teacher Evaluation\n",
    "Before training an SLM, distil labs validates whether a large language model can solve your task:"
   ]
  },
  {
   "cell_type": "code",
   "execution_count": null,
   "id": "e0dd2692-f262-4aa6-a698-757428ac6c53",
   "metadata": {},
   "outputs": [],
   "source": [
    "from pprint import pprint\n",
    "\n",
    "# Start teacher evaluation\n",
    "data = {\"upload_id\": upload_id}\n",
    "response = requests.post(\n",
    "    f\"https://api.distillabs.ai/models/{model_id}/teacher-evaluations\",\n",
    "    data=json.dumps(data),\n",
    "    headers={\"content-type\": \"application/json\", **AUTH_HEADER},\n",
    ")\n",
    "\n",
    "pprint(response.json())\n",
    "teacher_evaluation_id = response.json().get(\"id\")"
   ]
  },
  {
   "cell_type": "markdown",
   "id": "1a2f99f6-bb40-4d64-a23a-08e21bbafcf6",
   "metadata": {},
   "source": [
    "Poll the status endpoint until it completes, then inspect the quality of generated answers. distil labs shows four scores to tell you how well the “teacher” model answers your test questions. Think of them as different lenses on the same picture—together they give a fuller view than any single number\n",
    "\n",
    "| Metric                   | What it really asks                                                                                     | How to read it                                                                                                                                                |\n",
    "| ------------------------ | ------------------------------------------------------------------------------------------------------- | ------------------------------------------------------------------------------------------------------------------------------------------------------------- |\n",
    "| **Exact-Match (Binary)** | “Did the model give *exactly* the same words as the reference answer?”                                  | 1 = perfect match, 0 = anything else. Great for facts that have one correct phrasing, harsh on synonyms. ([Wikipedia][1])                                     |\n",
    "| **LLM-as-a-Judge**       | “If we let a large language model act as a human grader, does it say this answer is good?”              | Scores reflect semantic quality even when wording differs; handy when many answers are possible. ([Evidently AI][2], [arXiv][3])                              |\n",
    "| **ROUGE-L**              | “How much word-overlap is there between answer and reference?” (counts the longest common subsequence). | Higher = more shared wording; favours longer answers that reuse reference phrases. Widely used in text-summarisation tests. ([Wikipedia][4])                  |\n",
    "| **METEOR**               | “Do the two answers share words *or* close synonyms/stems, and is the wording fluent?”                  | Balances precision + recall, rewards correct synonyms, penalises word-salad; often tracks human judgements better than pure overlap metrics. ([Wikipedia][5]) |\n",
    "\n",
    "---\n",
    "\n",
    "##### How to interpret a scorecard\n",
    "\n",
    "* If Exact-Match is low but LLM-as-a-Judge is high, the answers are probably *right but paraphrased*—consider adding those paraphrases to your reference set.\n",
    "* If all four numbers sag, revisit your job description or give the model more context; the task may be under-specified.\n",
    "\n",
    "Follow the links above for deeper dives if you want to explore the math or research behind each metric.\n",
    "\n",
    "[1]: https://en.wikipedia.org/wiki/Language_model_benchmark \"Language model benchmark\"\n",
    "[2]: https://www.evidentlyai.com/llm-guide/llm-as-a-judge \"LLM-as-a-judge: a complete guide to using LLMs for evaluations\"\n",
    "[3]: https://arxiv.org/abs/2411.15594 \"[2411.15594] A Survey on LLM-as-a-Judge - arXiv\"\n",
    "[4]: https://en.wikipedia.org/wiki/ROUGE_%28metric%29 \"ROUGE (metric)\"\n",
    "[5]: https://en.wikipedia.org/wiki/METEOR \"METEOR\"\n",
    "\n"
   ]
  },
  {
   "cell_type": "code",
   "execution_count": null,
   "id": "4b6dc4eb-7d2d-45d2-83d5-42f1c56fd4c6",
   "metadata": {},
   "outputs": [],
   "source": [
    "\n",
    "from pprint import pprint\n",
    "\n",
    "response = requests.get(\n",
    "    f\"https://api.distillabs.ai/teacher-evaluations/{teacher_evaluation_id}/status\",\n",
    "    headers=AUTH_HEADER\n",
    ")\n",
    "pprint(response.json())\n"
   ]
  },
  {
   "cell_type": "markdown",
   "id": "23394ebe-1dc5-4639-8e98-b8847aeb8ece",
   "metadata": {},
   "source": [
    "### SLM Training\n",
    "Once the teacher evaluation completes successfully, start the SLM training:"
   ]
  },
  {
   "cell_type": "code",
   "execution_count": null,
   "id": "3845a128-1f49-48e5-9f03-e291a476447c",
   "metadata": {},
   "outputs": [],
   "source": [
    "import time\n",
    "from pprint import pprint\n",
    "\n",
    "# Start SLM training\n",
    "data = {\"upload_id\": upload_id}\n",
    "response = requests.post(\n",
    "    f\"https://api.distillabs.ai/models/{model_id}/training\",\n",
    "    data=json.dumps(data),\n",
    "    headers={\"content-type\": \"application/json\", **AUTH_HEADER},\n",
    ")\n",
    "\n",
    "pprint(response.json())\n",
    "slm_training_job_id = response.json().get(\"id\")"
   ]
  },
  {
   "cell_type": "markdown",
   "id": "0981fa42-2d06-4a47-81b1-41a5a19d87f8",
   "metadata": {},
   "source": [
    "We can analyze the status of the training job using the `jobs` API. The following code snippets displays the current status of the job we started before. When the job is finished (`status=complete`), we can use the `jobs` API again to get the benchmarking result - the accuracy of the LLM and the accuracy of the fine-tuned SLM. We can achieve this using:"
   ]
  },
  {
   "cell_type": "code",
   "execution_count": null,
   "id": "124daab6-2fb9-4907-b6da-38d22bf20c7d",
   "metadata": {},
   "outputs": [],
   "source": [
    "import json\n",
    "from pprint import pprint\n",
    "import requests\n",
    "\n",
    "response = requests.get(\n",
    "    f\"https://api.distillabs.ai/trainings/{slm_training_job_id}/status\",\n",
    "    headers=AUTH_HEADER,\n",
    ")\n",
    "pprint(response.json())"
   ]
  },
  {
   "cell_type": "markdown",
   "id": "5a7223fc-bad9-463e-9f27-8c7bd508a001",
   "metadata": {},
   "source": [
    "When the job is finished (`status=complete`), we can use the `jobs` API again to get the benchmarking result for the base and fine-tuned SLM, using the same four metrics as for the teacher evaluation. We can achieve this using:"
   ]
  },
  {
   "cell_type": "code",
   "execution_count": null,
   "id": "0e887a11-66b5-4ff9-afb3-bf9ceb396a1b",
   "metadata": {},
   "outputs": [],
   "source": [
    "from pprint import pprint\n",
    "\n",
    "response = requests.get(\n",
    "    f\"https://api.distillabs.ai/trainings/{slm_training_job_id}/evaluation-results\",\n",
    "    headers=AUTH_HEADER,\n",
    ")\n",
    "\n",
    "pprint(response.json())\n"
   ]
  },
  {
   "cell_type": "markdown",
   "id": "99d1c8e9-75d1-4274-9136-979bad9bde91",
   "metadata": {},
   "source": [
    "### Download Your Model\n",
    "You can list all of your models using the cell below. Once training is complete, download the selected model for deployment."
   ]
  },
  {
   "cell_type": "code",
   "execution_count": null,
   "id": "3690f5b5-a4ba-4a40-a5b9-f10317b6c460",
   "metadata": {},
   "outputs": [],
   "source": [
    "import json\n",
    "from pprint import pprint\n",
    "import requests\n",
    "\n",
    "response = requests.get(\n",
    "    f\"https://api.distillabs.ai/models\",\n",
    "    headers=AUTH_HEADER,\n",
    ")\n",
    "pprint(response.json())"
   ]
  },
  {
   "cell_type": "code",
   "execution_count": null,
   "id": "c5dbffcd-2e1e-47b4-9021-32687fe22a56",
   "metadata": {},
   "outputs": [],
   "source": [
    "from pprint import pprint\n",
    "\n",
    "# Get model download URL\n",
    "slm_training_job_id = \"SELECTED-MODEL\"\n",
    "response = requests.get(\n",
    "    f\"https://api.distillabs.ai/trainings/{slm_training_job_id}/model\",\n",
    "    headers=AUTH_HEADER\n",
    ")\n",
    "\n",
    "s3url = response.json()[\"s3_url\"]\n",
    "pprint(response.json())"
   ]
  },
  {
   "cell_type": "code",
   "execution_count": null,
   "id": "f9f49c21-8f46-4acd-b635-38ec9ce89486",
   "metadata": {},
   "outputs": [],
   "source": [
    "import tarfile\n",
    "import urllib.request\n",
    "\n",
    "print(\"Downloading …\")\n",
    "def status(count, block, total):\n",
    "    print(\"\\r\", f\"Downloading: {count * block / total:.1%}\", end=\"\")\n",
    "\n",
    "\n",
    "urllib.request.urlretrieve(\n",
    "    s3url,\n",
    "    \"model.tar\",\n",
    "    reporthook=status,\n",
    ")\n",
    "\n",
    "print(\"\\nUnpacking …\")\n",
    "with tarfile.open(\"model.tar\", mode=\"r:*\") as tar:\n",
    "    tar.extractall(path=\".\")\n"
   ]
  },
  {
   "cell_type": "code",
   "execution_count": null,
   "id": "6f142ac4-9607-41d3-8eef-3797a3d61c4e",
   "metadata": {},
   "outputs": [],
   "source": [
    "!ls -lt"
   ]
  },
  {
   "cell_type": "markdown",
   "id": "6a3eee98-0fce-4129-9a10-22f82767a0e5",
   "metadata": {},
   "source": [
    "# Deploy your fine‑tuned model\n",
    "\n",
    "Now that we have a small language model fine‑tuned specifically for HotpotQA we can launch a lightweight chat model locally with **ollama**.\n"
   ]
  },
  {
   "cell_type": "markdown",
   "id": "348bb833-7a5d-4cd4-859e-c0cd0ee0184b",
   "metadata": {},
   "source": [
    "#### Install ollama in your own system\n",
    "\n",
    "To install ollama, follow the instructions from https://ollama.com/download and make sure to enable the serving daemon (via `ollama serve`). Once ready, make sure the app is running by executing the following command (the list should be empty since we have not loaded any models yet):"
   ]
  },
  {
   "cell_type": "code",
   "execution_count": null,
   "id": "a6c40655-4597-48fd-9f59-3aac92a1208f",
   "metadata": {},
   "outputs": [],
   "source": [
    "! ollama list"
   ]
  },
  {
   "cell_type": "markdown",
   "id": "40e0c03d-f697-4905-a5ba-77dd393b3c25",
   "metadata": {},
   "source": [
    "#### (Optional) Install ollama for Google Colab\n",
    "If you are running this notebook in Google Colab, you can install Ollama using the following link"
   ]
  },
  {
   "cell_type": "code",
   "execution_count": null,
   "id": "4816c3d5-1fea-4211-b41e-1f7f814f821f",
   "metadata": {},
   "outputs": [],
   "source": [
    "! curl -fsSL https://ollama.com/install.sh | sh"
   ]
  },
  {
   "cell_type": "markdown",
   "id": "0946db5d-60cb-479c-adec-fabe603a3622",
   "metadata": {},
   "source": [
    "Once ollama is installed, we should start the application. You can start the daemon with `ollama serve` using `nohup` to make sure it stays in the background."
   ]
  },
  {
   "cell_type": "code",
   "execution_count": null,
   "id": "cec1dee8-3a2b-4355-8375-f0e578eca36e",
   "metadata": {},
   "outputs": [],
   "source": [
    "! nohup ollama serve &"
   ]
  },
  {
   "cell_type": "markdown",
   "id": "601815c4-67f3-4b46-bb0b-3ab4768b3cdf",
   "metadata": {},
   "source": [
    "Make sure the app is running by executing the following command (the list should be empty since we have not loaded any models yet):"
   ]
  },
  {
   "cell_type": "code",
   "execution_count": null,
   "id": "0f7b8f32-4c0b-440b-b2a1-39673465ebf4",
   "metadata": {},
   "outputs": [],
   "source": [
    "! ollama list"
   ]
  },
  {
   "cell_type": "markdown",
   "id": "8eaf599e-4811-46e1-905f-cb176e3b62f8",
   "metadata": {},
   "source": [
    "### Register and test the downloaded model \n",
    "Once your model is trained, it should be unpacked and registered with ollama. The downloaded model directory already contains everything that is needed and the model can be registed with the command below. Once it is ready, we can test the model with a standard OpenAI interface"
   ]
  },
  {
   "cell_type": "code",
   "execution_count": null,
   "id": "c0f142dc-15d4-4a20-8953-494b4883b577",
   "metadata": {
    "scrolled": true
   },
   "outputs": [],
   "source": [
    "! ollama create model-distillabs -f model/Modelfile"
   ]
  },
  {
   "cell_type": "code",
   "execution_count": null,
   "id": "8c6631a9-6389-41e4-8515-4bc7be43ccab",
   "metadata": {},
   "outputs": [],
   "source": [
    "from openai import OpenAI\n",
    "\n",
    "client = OpenAI(\n",
    "    base_url = 'http://localhost:11434/v1',\n",
    "    api_key='ollama', # required, but unused\n",
    ")\n",
    "\n",
    "response = client.chat.completions.create(\n",
    "  model=\"model-distillabs\",\n",
    "  messages=[\n",
    "    {\"role\": \"user\", \"content\": \"What day is it?\"},\n",
    "  ],\n",
    ")\n",
    "print(response.choices[0].message.content)"
   ]
  },
  {
   "cell_type": "code",
   "execution_count": null,
   "id": "76909726-709e-4e12-93df-740af558b836",
   "metadata": {},
   "outputs": [],
   "source": [
    "SYSTEM_PROMPT = \"\"\"\n",
    "You are a problem solving model working on task_description XML block:\n",
    "\n",
    "<task_description>\n",
    "Answer the question using information in the context. Questions require information from more than one paragraph from the context to answer.\n",
    "</task_description>\n",
    "\n",
    "You will be given a single task with context in the context XML block and the task in the question XML block\n",
    "Solve the task in question block based on the context in context block.\n",
    "Generate only the answer, do not generate anything else\n",
    "\"\"\"\n",
    "\n",
    "PROMPT_TEMPLATE = \"\"\"\n",
    "Now for the real task, solve the task in question block based on the context in context block.\n",
    "Generate only the solution, do not generate anything else.\n",
    "\n",
    "<context>\n",
    "{context}\n",
    "</context>\n",
    "\n",
    "<question>\n",
    "{question}\n",
    "</question>\n",
    "\"\"\"\n",
    "\n",
    "def get_prompt(self, question: str, context: str) -> str:\n",
    "    return [\n",
    "        {\"role\": \"system\", \"content\": SYSTEM_PROMPT},\n",
    "        {\"role\": \"user\", \"content\": PROMPT_TEMPLATE.format(context=context, question=question)},\n",
    "    ]"
   ]
  },
  {
   "cell_type": "markdown",
   "id": "33653e93-e07a-4852-8fb1-2451ca6b045c",
   "metadata": {},
   "source": [
    "### Test our model"
   ]
  },
  {
   "cell_type": "code",
   "execution_count": null,
   "id": "443d75b0-5ffb-4393-82eb-0852ebb8b24e",
   "metadata": {},
   "outputs": [],
   "source": [
    "import pandas\n",
    "from pathlib import Path\n",
    "\n",
    "data_location = Path(\"data\")\n",
    "test = pandas.read_csv(data_location.joinpath(\"test.csv\"))\n",
    "\n",
    "example = test.loc[3]\n",
    "print(f\"context:\\n{example['context']}\")\n",
    "print(f\"question:\\n{example['question']}\")\n",
    "print(f\"answer:\\n{example['answer']}\")\n",
    "\n",
    "\n",
    "response = client.chat.completions.create(\n",
    "  model=\"model-distillabs\",\n",
    "  messages=get_prompt(question=example['question'], context=example['context']),\n",
    ")\n",
    "print(\"\\n\\nPrediction:\", response.choices[0].message.content)\n"
   ]
  },
  {
   "cell_type": "code",
   "execution_count": null,
   "id": "d3289b52-6f43-4484-a1f0-48dea57ff5a0",
   "metadata": {},
   "outputs": [],
   "source": []
  }
 ],
 "metadata": {
  "kernelspec": {
   "display_name": "Python 3 (ipykernel)",
   "language": "python",
   "name": "python3"
  },
  "language_info": {
   "codemirror_mode": {
    "name": "ipython",
    "version": 3
   },
   "file_extension": ".py",
   "mimetype": "text/x-python",
   "name": "python",
   "nbconvert_exporter": "python",
   "pygments_lexer": "ipython3",
   "version": "3.13.2"
  }
 },
 "nbformat": 4,
 "nbformat_minor": 5
}
