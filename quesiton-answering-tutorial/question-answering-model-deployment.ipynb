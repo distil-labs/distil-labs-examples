{
 "cells": [
  {
   "attachments": {
    "f9defa76-bd01-47a9-8003-d7aba170b0c1.jpg": {
     "image/jpeg": "[encoded data removed]"
    }
   },
   "cell_type": "markdown",
   "metadata": {},
   "source": [
    "# SLM deployment\n",
    "\n",
    "The **distil labs** platform allows anyone to benefit from state-of-the-art methods for model fine-tuning. You don’t need to be a machine learning expert to get a highly performant model customized to your needs in a matter of a day. \n",
    "\n",
    "\n",
    "## Objective\n",
    "In this notebook we will deploy a trained question-answering small language model (SLM) with the **distil labs** platform. \n",
    "\n",
    "![deployment.jpg](attachment:f9defa76-bd01-47a9-8003-d7aba170b0c1.jpg)\n"
   ]
  },
  {
   "cell_type": "markdown",
   "metadata": {},
   "source": [
    "## Install dependencies\n",
    "Please run the following cell to install the necessary dependencies in order to run this example. (Note that it is recommneded to use a virtual environment to install these dependencies.)"
   ]
  },
  {
   "cell_type": "code",
   "execution_count": null,
   "metadata": {
    "scrolled": true
   },
   "outputs": [],
   "source": [
    "! pip install torch transformers pandas"
   ]
  },
  {
   "cell_type": "markdown",
   "metadata": {},
   "source": [
    "# Download Model\n",
    "**NOTE: If you have already downloaded the model, you can skip this step**.\n",
    "\n",
    "\n",
    "Once the model is fully trained, we can share the model binaries with you, so you can deploy it on your own infrastructure and have full control. The model binaries can be downloaded using the `model` API by downloading the tarball and extracting into to the `model` directory. \n",
    "\n",
    "The downloaded file will be called `*-model.tar`. Once extracted, you should find a `model/` directory which should be copied to the same directory as this notebook. At this point, your current working directory should look something like:\n",
    "\n",
    "```\n",
    "├── README.md\n",
    "├── question-answering-model-deployment.ipynb\n",
    "├── model\n",
    "│   ├── config.json\n",
    "│   ├── model.safetensors\n",
    "│   ├── special_tokens_map.json\n",
    "│   ├── tokenizer.json\n",
    "│   ├── tokenizer_config.json\n",
    "│   ├── training-logs.csv\n",
    "│   └── training-logs.json\n",
    "```\n"
   ]
  },
  {
   "cell_type": "code",
   "execution_count": null,
   "metadata": {},
   "outputs": [],
   "source": [
    "import requests\n",
    "import getpass\n",
    "import json\n",
    "import os\n",
    "\n",
    "def distil_bearer_token(DL_USERNAME: str, DL_PASSWORD: str) -> str:\n",
    "    response = requests.post(\n",
    "        \"https://cognito-idp.eu-central-1.amazonaws.com\",\n",
    "        headers={\n",
    "            \"X-Amz-Target\": \"AWSCognitoIdentityProviderService.InitiateAuth\",\n",
    "            \"Content-Type\": \"application/x-amz-json-1.1\",\n",
    "        },\n",
    "        data=json.dumps({\n",
    "            \"AuthParameters\": {\n",
    "                \"USERNAME\": DL_USERNAME,\n",
    "                \"PASSWORD\": DL_PASSWORD,\n",
    "            },\n",
    "            \"AuthFlow\": \"USER_PASSWORD_AUTH\",\n",
    "            \"ClientId\" : \"4569nvlkn8dm0iedo54nbta6fd\",\n",
    "        })\n",
    "    )\n",
    "    response.raise_for_status()\n",
    "    return response.json()[\"AuthenticationResult\"][\"AccessToken\"]\n",
    "\n",
    "DL_USERNAME = os.environ[\"DL_USERNAME\"]\n",
    "DL_PASSWORD = os.environ[\"DL_PASSWORD\"]\n",
    "\n",
    "\n",
    "AUTH_HEADER = {\"Authorization\": distil_bearer_token(DL_USERNAME, DL_PASSWORD)}\n",
    "print(\"Success\")"
   ]
  },
  {
   "cell_type": "code",
   "execution_count": null,
   "metadata": {},
   "outputs": [],
   "source": [
    "from pprint import pprint\n",
    "\n",
    "SLM_TRAINING_JOB_ID = \"YOUR_MODEL_ID\"\n",
    "\n",
    "response = requests.get(\n",
    "    f\"https://api.distillabs.ai/trainings/model/{SLM_TRAINING_JOB_ID}\",\n",
    "    headers=AUTH_HEADER,\n",
    ")\n",
    "pprint(response.json())"
   ]
  },
  {
   "cell_type": "markdown",
   "metadata": {},
   "source": [
    "# Model Deployment"
   ]
  },
  {
   "cell_type": "markdown",
   "metadata": {},
   "source": [
    "We will use [huggingafce transformers](https://huggingface.co/docs/transformers/index) to host our model and use their standard API to make requests against it."
   ]
  },
  {
   "cell_type": "code",
   "execution_count": null,
   "metadata": {},
   "outputs": [],
   "source": [
    "import transformers\n",
    "\n",
    "from transformers import AutoTokenizer, AutoModelForCausalLM\n",
    "\n",
    "\n",
    "class HFModel:\n",
    "    def __init__(self, model_directory: str = \"model\"):\n",
    "        self.model = AutoModelForCausalLM.from_pretrained(model_directory)\n",
    "        self.tokenizer = AutoTokenizer.from_pretrained(model_directory, padding_side=\"left\")\n",
    "        self.llm = transformers.pipeline(\n",
    "            \"text-generation\",\n",
    "            model=self.model,\n",
    "            tokenizer=self.tokenizer,\n",
    "        )\n",
    "\n",
    "    def get_prompt(self, question: str, context: str) -> str:\n",
    "        message = [\n",
    "            {\n",
    "                \"role\": \"system\",\n",
    "                \"content\": \"You are a question-answering model working on a problem described in task_description XML block:\\n<task_description>Answer the question using information in the context. Questions require information from more than one paragraph from the context to answer. </task_description>\\nYou will be given a single task with context in context XML block and the question in question XML block\\nAnswer the question and put your answer between the answer XML block.\",\n",
    "            },\n",
    "            {\n",
    "                \"role\": \"user\",\n",
    "                \"content\": f\"Now for the real task, answer the question in question block based on the context in context block.\\n<context>\\n{context}\\n</context>\\n<question>\\n{question}\\n</question>\\nPlace the answer in answer XML block\",\n",
    "            },\n",
    "        ]\n",
    "        return self.tokenizer.apply_chat_template(\n",
    "            message, tokenize=False, add_generation_prompt=True\n",
    "        )\n",
    "\n",
    "    def invoke(self, question: str, context: str) -> str:\n",
    "        prompt = self.get_prompt(question=question, context=context)\n",
    "        return self.llm(prompt, max_new_tokens=2048, return_full_text=False)\n",
    "\n",
    "llm = HFModel(\"model\")"
   ]
  },
  {
   "cell_type": "code",
   "execution_count": null,
   "metadata": {},
   "outputs": [],
   "source": [
    "import pandas\n",
    "from pathlib import Path\n",
    "\n",
    "data_location = Path(\"data-hotpotqa\")\n",
    "test = pandas.read_csv(data_location.joinpath(\"test.csv\"))\n",
    "\n",
    "example = test.loc[0]\n",
    "print(f\"context:\\n{example['context']}\")\n",
    "print(f\"question:\\n{example['question']}\")\n",
    "\n",
    "answer = llm.invoke(question=example['question'], context=example['context'])\n",
    "print(\"\\n\\nAnswer:\", answer)"
   ]
  }
 ],
 "metadata": {
  "kernelspec": {
   "display_name": "Python 3 (ipykernel)",
   "language": "python",
   "name": "python3"
  },
  "language_info": {
   "codemirror_mode": {
    "name": "ipython",
    "version": 3
   },
   "file_extension": ".py",
   "mimetype": "text/x-python",
   "name": "python",
   "nbconvert_exporter": "python",
   "pygments_lexer": "ipython3",
   "version": "3.11.10"
  }
 },
 "nbformat": 4,
 "nbformat_minor": 4
}
